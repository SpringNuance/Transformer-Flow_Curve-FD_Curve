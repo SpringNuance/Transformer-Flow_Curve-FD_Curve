{
 "cells": [
  {
   "cell_type": "code",
   "execution_count": 2,
   "metadata": {},
   "outputs": [],
   "source": [
    "import numpy as np\n",
    "from modules.helper import *"
   ]
  },
  {
   "cell_type": "code",
   "execution_count": 39,
   "metadata": {},
   "outputs": [
    {
     "name": "stdout",
     "output_type": "stream",
     "text": [
      "(253, 571)\n",
      "(253, 101)\n"
     ]
    }
   ],
   "source": [
    "flowCurvesInitial = np.load(\"initial/common/flowCurves.npy\", allow_pickle=True).tolist()\n",
    "flowCurvesIteration = np.load(\"iteration/common/flowCurves.npy\", allow_pickle=True).tolist()\n",
    "flowCurves = {}\n",
    "flowCurves.update(flowCurvesInitial)\n",
    "flowCurves.update(flowCurvesIteration)\n",
    "flow_targetCurve = {}\n",
    "flow_targetCurve['strain'] = np.load(\"truePlasticStrain.npy\", allow_pickle=True).tolist()\n",
    "#flow_targetCurve['strain'] = np.linspace(0, 3, 100)\n",
    "flowCurves = interpolating_flowCurves(flowCurves, flow_targetCurve)\n",
    "flowCurves_stress = []\n",
    "for param in flowCurves:\n",
    "    flowCurves_stress.append(np.array(flowCurves[param]['stress']))\n",
    "flowCurves_stress = np.array(flowCurves_stress)\n",
    "print(flowCurves_stress.shape)\n",
    "\n",
    "FD_CurvesInitial = np.load(\"initial/common/FD_Curves_smooth.npy\", allow_pickle=True).tolist()\n",
    "FD_CurvesIteration = np.load(\"iteration/common/FD_Curves_smooth.npy\", allow_pickle=True).tolist()\n",
    "FD_Curves = {}\n",
    "FD_Curves.update(FD_CurvesInitial)\n",
    "FD_Curves.update(FD_CurvesIteration)\n",
    "#print(list(FD_Curves.values())[0]['force'].shape)\n",
    "FD_targetCurve = {}\n",
    "# Create linearly spaced array of 100 points between 0 and 3\n",
    "FD_targetCurve['displacement'] = np.linspace(0, 3, 101)\n",
    "FD_Curves = interpolating_FD_Curves(FD_Curves, FD_targetCurve)\n",
    "#print(list(FD_Curves.values())[0]['force'].shape)\n",
    "\n",
    "\n",
    "FD_Curves_force = []\n",
    "for param in FD_Curves:\n",
    "    #print(FD_Curves[param]['force'].size)\n",
    "    FD_Curves_force.append(np.array(FD_Curves[param]['force']))\n",
    "\n",
    "FD_Curves_force = np.array(FD_Curves_force)\n",
    "print(FD_Curves_force.shape)\n",
    "\n",
    "np.save(\"flowCurves_stress.npy\", flowCurves_stress)\n",
    "np.save(\"FD_Curves_force.npy\", FD_Curves_force)"
   ]
  }
 ],
 "metadata": {
  "kernelspec": {
   "display_name": "Python 3",
   "language": "python",
   "name": "python3"
  },
  "language_info": {
   "codemirror_mode": {
    "name": "ipython",
    "version": 3
   },
   "file_extension": ".py",
   "mimetype": "text/x-python",
   "name": "python",
   "nbconvert_exporter": "python",
   "pygments_lexer": "ipython3",
   "version": "3.11.3"
  },
  "orig_nbformat": 4
 },
 "nbformat": 4,
 "nbformat_minor": 2
}
